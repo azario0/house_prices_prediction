{
 "cells": [
  {
   "cell_type": "markdown",
   "metadata": {},
   "source": [
    "# Database link :\n",
    "https://www.kaggle.com/datasets/aravinii/house-price-prediction-treated-dataset"
   ]
  },
  {
   "cell_type": "markdown",
   "metadata": {},
   "source": [
    "### Reading the csv files and a quick consultation"
   ]
  },
  {
   "cell_type": "code",
   "execution_count": 10,
   "metadata": {},
   "outputs": [],
   "source": [
    "import pandas as pd\n",
    "# Load the data\n",
    "df_train = pd.read_csv('df_train.csv')\n",
    "df_test = pd.read_csv('df_test.csv')"
   ]
  },
  {
   "cell_type": "code",
   "execution_count": 11,
   "metadata": {},
   "outputs": [
    {
     "data": {
      "text/html": [
       "<div>\n",
       "<style scoped>\n",
       "    .dataframe tbody tr th:only-of-type {\n",
       "        vertical-align: middle;\n",
       "    }\n",
       "\n",
       "    .dataframe tbody tr th {\n",
       "        vertical-align: top;\n",
       "    }\n",
       "\n",
       "    .dataframe thead th {\n",
       "        text-align: right;\n",
       "    }\n",
       "</style>\n",
       "<table border=\"1\" class=\"dataframe\">\n",
       "  <thead>\n",
       "    <tr style=\"text-align: right;\">\n",
       "      <th></th>\n",
       "      <th>date</th>\n",
       "      <th>price</th>\n",
       "      <th>bedrooms</th>\n",
       "      <th>grade</th>\n",
       "      <th>has_basement</th>\n",
       "      <th>living_in_m2</th>\n",
       "      <th>renovated</th>\n",
       "      <th>nice_view</th>\n",
       "      <th>perfect_condition</th>\n",
       "      <th>real_bathrooms</th>\n",
       "      <th>has_lavatory</th>\n",
       "      <th>single_floor</th>\n",
       "      <th>month</th>\n",
       "      <th>quartile_zone</th>\n",
       "    </tr>\n",
       "  </thead>\n",
       "  <tbody>\n",
       "    <tr>\n",
       "      <th>0</th>\n",
       "      <td>2014-06-20</td>\n",
       "      <td>237000.0</td>\n",
       "      <td>3</td>\n",
       "      <td>7</td>\n",
       "      <td>False</td>\n",
       "      <td>120.77390</td>\n",
       "      <td>False</td>\n",
       "      <td>False</td>\n",
       "      <td>False</td>\n",
       "      <td>1</td>\n",
       "      <td>False</td>\n",
       "      <td>True</td>\n",
       "      <td>6</td>\n",
       "      <td>2</td>\n",
       "    </tr>\n",
       "    <tr>\n",
       "      <th>1</th>\n",
       "      <td>2015-04-20</td>\n",
       "      <td>1328000.0</td>\n",
       "      <td>5</td>\n",
       "      <td>9</td>\n",
       "      <td>True</td>\n",
       "      <td>310.29602</td>\n",
       "      <td>True</td>\n",
       "      <td>True</td>\n",
       "      <td>False</td>\n",
       "      <td>3</td>\n",
       "      <td>False</td>\n",
       "      <td>True</td>\n",
       "      <td>4</td>\n",
       "      <td>4</td>\n",
       "    </tr>\n",
       "    <tr>\n",
       "      <th>2</th>\n",
       "      <td>2014-08-13</td>\n",
       "      <td>790500.0</td>\n",
       "      <td>4</td>\n",
       "      <td>9</td>\n",
       "      <td>False</td>\n",
       "      <td>311.22505</td>\n",
       "      <td>False</td>\n",
       "      <td>False</td>\n",
       "      <td>False</td>\n",
       "      <td>2</td>\n",
       "      <td>True</td>\n",
       "      <td>False</td>\n",
       "      <td>8</td>\n",
       "      <td>4</td>\n",
       "    </tr>\n",
       "    <tr>\n",
       "      <th>3</th>\n",
       "      <td>2015-04-08</td>\n",
       "      <td>431000.0</td>\n",
       "      <td>4</td>\n",
       "      <td>9</td>\n",
       "      <td>False</td>\n",
       "      <td>282.42512</td>\n",
       "      <td>False</td>\n",
       "      <td>False</td>\n",
       "      <td>False</td>\n",
       "      <td>2</td>\n",
       "      <td>True</td>\n",
       "      <td>False</td>\n",
       "      <td>4</td>\n",
       "      <td>2</td>\n",
       "    </tr>\n",
       "    <tr>\n",
       "      <th>4</th>\n",
       "      <td>2015-02-11</td>\n",
       "      <td>199000.0</td>\n",
       "      <td>3</td>\n",
       "      <td>7</td>\n",
       "      <td>True</td>\n",
       "      <td>162.58025</td>\n",
       "      <td>False</td>\n",
       "      <td>False</td>\n",
       "      <td>False</td>\n",
       "      <td>2</td>\n",
       "      <td>True</td>\n",
       "      <td>True</td>\n",
       "      <td>2</td>\n",
       "      <td>2</td>\n",
       "    </tr>\n",
       "  </tbody>\n",
       "</table>\n",
       "</div>"
      ],
      "text/plain": [
       "         date      price  bedrooms  grade  has_basement  living_in_m2  \\\n",
       "0  2014-06-20   237000.0         3      7         False     120.77390   \n",
       "1  2015-04-20  1328000.0         5      9          True     310.29602   \n",
       "2  2014-08-13   790500.0         4      9         False     311.22505   \n",
       "3  2015-04-08   431000.0         4      9         False     282.42512   \n",
       "4  2015-02-11   199000.0         3      7          True     162.58025   \n",
       "\n",
       "   renovated  nice_view  perfect_condition  real_bathrooms  has_lavatory  \\\n",
       "0      False      False              False               1         False   \n",
       "1       True       True              False               3         False   \n",
       "2      False      False              False               2          True   \n",
       "3      False      False              False               2          True   \n",
       "4      False      False              False               2          True   \n",
       "\n",
       "   single_floor  month  quartile_zone  \n",
       "0          True      6              2  \n",
       "1          True      4              4  \n",
       "2         False      8              4  \n",
       "3         False      4              2  \n",
       "4          True      2              2  "
      ]
     },
     "execution_count": 11,
     "metadata": {},
     "output_type": "execute_result"
    }
   ],
   "source": [
    "df_train.head()"
   ]
  },
  {
   "cell_type": "code",
   "execution_count": 8,
   "metadata": {},
   "outputs": [
    {
     "data": {
      "text/plain": [
       "date                 0\n",
       "price                0\n",
       "bedrooms             0\n",
       "grade                0\n",
       "has_basement         0\n",
       "living_in_m2         0\n",
       "renovated            0\n",
       "nice_view            0\n",
       "perfect_condition    0\n",
       "real_bathrooms       0\n",
       "has_lavatory         0\n",
       "single_floor         0\n",
       "month                0\n",
       "quartile_zone        0\n",
       "dtype: int64"
      ]
     },
     "execution_count": 8,
     "metadata": {},
     "output_type": "execute_result"
    }
   ],
   "source": [
    "df_train.isnull().sum()"
   ]
  },
  {
   "cell_type": "code",
   "execution_count": 9,
   "metadata": {},
   "outputs": [
    {
     "data": {
      "text/plain": [
       "date                 0\n",
       "price                0\n",
       "bedrooms             0\n",
       "grade                0\n",
       "has_basement         0\n",
       "living_in_m2         0\n",
       "renovated            0\n",
       "nice_view            0\n",
       "perfect_condition    0\n",
       "real_bathrooms       0\n",
       "has_lavatory         0\n",
       "single_floor         0\n",
       "month                0\n",
       "quartile_zone        0\n",
       "dtype: int64"
      ]
     },
     "execution_count": 9,
     "metadata": {},
     "output_type": "execute_result"
    }
   ],
   "source": [
    "df_test.isnull().sum()"
   ]
  },
  {
   "cell_type": "markdown",
   "metadata": {},
   "source": [
    "### Preparing the data and training the models"
   ]
  },
  {
   "cell_type": "code",
   "execution_count": 6,
   "metadata": {},
   "outputs": [
    {
     "name": "stderr",
     "output_type": "stream",
     "text": [
      "/home/azar/.local/lib/python3.10/site-packages/sklearn/linear_model/_coordinate_descent.py:697: ConvergenceWarning: Objective did not converge. You might want to increase the number of iterations, check the scale of the features or consider increasing regularisation. Duality gap: 1.967e+12, tolerance: 8.515e+10\n",
      "  model = cd_fast.enet_coordinate_descent(\n"
     ]
    },
    {
     "name": "stdout",
     "output_type": "stream",
     "text": [
      "Model Performance:\n",
      "Linear Regression:\n",
      "  MSE: 120864.25\n",
      "  R2: 0.76\n",
      "\n",
      "Ridge Regression:\n",
      "  MSE: 120864.98\n",
      "  R2: 0.76\n",
      "\n",
      "Lasso Regression:\n",
      "  MSE: 120864.84\n",
      "  R2: 0.76\n",
      "\n",
      "Decision Tree:\n",
      "  MSE: 167894.34\n",
      "  R2: 0.54\n",
      "\n",
      "Random Forest:\n",
      "  MSE: 123190.12\n",
      "  R2: 0.75\n",
      "\n",
      "XGBOOST:\n",
      "  MSE: 119770.75\n",
      "  R2: 0.76\n",
      "\n",
      "The best performing model is: XGBOOST\n"
     ]
    }
   ],
   "source": [
    "from sklearn.linear_model import LinearRegression, Ridge, Lasso\n",
    "from sklearn.tree import DecisionTreeRegressor\n",
    "from sklearn.ensemble import RandomForestRegressor\n",
    "import xgboost as xgb\n",
    "from sklearn.metrics import root_mean_squared_error, r2_score\n",
    "from sklearn.preprocessing import StandardScaler\n",
    "# Separate features and target variable\n",
    "X_train = df_train.drop('price', axis=1)\n",
    "y_train = df_train['price']\n",
    "X_test = df_test.drop('price', axis=1)\n",
    "y_test = df_test['price']\n",
    "# Preprocess the data\n",
    "# Convert date to datetime and extract year and month\n",
    "for df in [X_train, X_test]:\n",
    "    df['date'] = pd.to_datetime(df['date'])\n",
    "    df['year'] = df['date'].dt.year\n",
    "    df['month'] = df['date'].dt.month\n",
    "    df.drop('date', axis=1, inplace=True)\n",
    "# One-hot encode categorical variables\n",
    "categorical_cols = ['grade', 'month', 'quartile_zone']\n",
    "X_train = pd.get_dummies(X_train, columns=categorical_cols)\n",
    "X_test = pd.get_dummies(X_test, columns=categorical_cols)\n",
    "# Ensure X_test has all columns present in X_train\n",
    "for col in X_train.columns:\n",
    "    if col not in X_test.columns:\n",
    "        X_test[col] = 0\n",
    "# Align the columns of X_test with X_train\n",
    "X_test = X_test[X_train.columns]\n",
    "# Scale the features\n",
    "scaler = StandardScaler()\n",
    "X_train_scaled = scaler.fit_transform(X_train)\n",
    "X_test_scaled = scaler.transform(X_test)\n",
    "# Define models\n",
    "models = {\n",
    "    'Linear Regression': LinearRegression(),\n",
    "    'Ridge Regression': Ridge(),\n",
    "    'Lasso Regression': Lasso(),\n",
    "    'Decision Tree': DecisionTreeRegressor(),\n",
    "    'Random Forest': RandomForestRegressor(),\n",
    "    'XGBOOST': xgb.XGBRegressor(\n",
    "    n_estimators=1000,\n",
    "    learning_rate=0.05, \n",
    "    max_depth=6, \n",
    "    subsample=0.8,\n",
    "    colsample_bytree=0.8, \n",
    "    random_state=42\n",
    ")\n",
    "}\n",
    "\n",
    "# Train and evaluate models\n",
    "results = {}\n",
    "\n",
    "for name, model in models.items():\n",
    "    model.fit(X_train_scaled, y_train)\n",
    "    y_pred = model.predict(X_test_scaled)\n",
    "    mse = root_mean_squared_error(y_test, y_pred)\n",
    "    r2 = r2_score(y_test, y_pred)\n",
    "    results[name] = {'MSE': mse, 'R2': r2, 'model': model}\n",
    "\n",
    "# Display results\n",
    "print(\"Model Performance:\")\n",
    "for name, metrics in results.items():\n",
    "    print(f\"{name}:\")\n",
    "    print(f\"  MSE: {metrics['MSE']:.2f}\")\n",
    "    print(f\"  R2: {metrics['R2']:.2f}\")\n",
    "    print()\n",
    "\n",
    "# Find the best model\n",
    "best_model_name = max(results, key=lambda x: results[x]['R2'])\n",
    "best_model = results[best_model_name]['model']\n",
    "print(f\"The best performing model is: {best_model_name}\")\n",
    "\n"
   ]
  },
  {
   "cell_type": "markdown",
   "metadata": {},
   "source": [
    "### Saving the best model , the scaler and the feature names"
   ]
  },
  {
   "cell_type": "code",
   "execution_count": 7,
   "metadata": {},
   "outputs": [
    {
     "name": "stdout",
     "output_type": "stream",
     "text": [
      "Best model, scaler, and feature names have been saved.\n"
     ]
    }
   ],
   "source": [
    "import joblib\n",
    "# Save the best model\n",
    "joblib.dump(best_model, 'xgb_model.joblib')\n",
    "joblib.dump(scaler, 'scaler.joblib')\n",
    "joblib.dump(X_train.columns.tolist(), 'feature_names.joblib')\n",
    "\n",
    "print(\"Best model, scaler, and feature names have been saved.\")"
   ]
  },
  {
   "cell_type": "code",
   "execution_count": null,
   "metadata": {},
   "outputs": [],
   "source": []
  }
 ],
 "metadata": {
  "kernelspec": {
   "display_name": "Python 3",
   "language": "python",
   "name": "python3"
  },
  "language_info": {
   "codemirror_mode": {
    "name": "ipython",
    "version": 3
   },
   "file_extension": ".py",
   "mimetype": "text/x-python",
   "name": "python",
   "nbconvert_exporter": "python",
   "pygments_lexer": "ipython3",
   "version": "3.10.12"
  }
 },
 "nbformat": 4,
 "nbformat_minor": 2
}
